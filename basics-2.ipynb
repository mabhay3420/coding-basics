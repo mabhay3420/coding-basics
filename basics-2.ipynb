{
  "nbformat": 4,
  "nbformat_minor": 0,
  "metadata": {
    "colab": {
      "name": "Untitled5.ipynb",
      "provenance": []
    },
    "kernelspec": {
      "name": "python3",
      "display_name": "Python 3"
    }
  },
  "cells": [
    {
      "cell_type": "code",
      "metadata": {
        "id": "77GjAVA2V8k8",
        "colab_type": "code",
        "colab": {
          "base_uri": "https://localhost:8080/",
          "height": 69
        },
        "outputId": "8ce8c5e2-7769-4809-f1cf-2f475308efb8"
      },
      "source": [
        "import time\n",
        "t_start = time.time()\n",
        "num,sec,row = input().split()\n",
        "num = int(num)\n",
        "sec =  int(sec)\n",
        "row = list(row)\n",
        "for i in range(sec):\n",
        "  j=0\n",
        "  count=0\n",
        "  while(j<num-1):\n",
        "    if row[j+1]=='G' and row[j] == 'B':\n",
        "      row[j+1] = 'B'\n",
        "      row[j] = 'G'\n",
        "      j+=2\n",
        "    else:\n",
        "      j+=1\n",
        "      count=+1\n",
        "  if(count==num-1):\n",
        "    break;\n",
        "print(\"---%s seconds---\"%(time.time()-t_start))    \n",
        "print(\"\".join(row)) \n",
        "\n"
      ],
      "execution_count": 41,
      "outputs": [
        {
          "output_type": "stream",
          "text": [
            "4 1 GGGB\n",
            "---5.799579381942749 seconds---\n",
            "GGGB\n"
          ],
          "name": "stdout"
        }
      ]
    }
  ]
}