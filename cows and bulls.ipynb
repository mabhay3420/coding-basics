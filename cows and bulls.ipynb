{
  "nbformat": 4,
  "nbformat_minor": 0,
  "metadata": {
    "colab": {
      "name": "Untitled7.ipynb",
      "provenance": []
    },
    "kernelspec": {
      "name": "python3",
      "display_name": "Python 3"
    }
  },
  "cells": [
    {
      "cell_type": "code",
      "metadata": {
        "id": "gvHevpjZDhhO",
        "colab_type": "code",
        "colab": {
          "base_uri": "https://localhost:8080/",
          "height": 503
        },
        "outputId": "35a13f86-8368-4b92-8751-461c809395d0"
      },
      "source": [
        "import random\n",
        "print(\"Welcome to Cows and Bulls!\")\n",
        "print(\"1.Try to use less than 7 guesses\")\n",
        "print(\"2.Always type number containing different digits\")\n",
        "print(\"3.Use 4 digit numbers only ,having no number as 0 at all\")\n",
        "print(\"4.Cows = number  of correct guesses of digit at correct place\")\n",
        "print(\"5.bulls = number of correct guesses of digits but at wrong place\")\n",
        "def game():\n",
        "  secret = random.sample(range(1,10),4)\n",
        "  a = secret[0]\n",
        "  b = secret[1]\n",
        "  c = secret[2]\n",
        "  d = secret[3]\n",
        "  print(a,b,c,d)\n",
        "  count = 0\n",
        "  n1 = 0\n",
        "  n2 = 0\n",
        "  n3 = 0\n",
        "  n4 = 0\n",
        "  count = 0\n",
        "  while((a!=n1)or (b!=n2)or (c!=n3) or (d!=n4)):\n",
        "    try:\n",
        "      num = int(input(\"give me a 4 digit number:\"))\n",
        "    except ValueError:\n",
        "      print(\"Either what you entered is not a number or you used space in between digits\")\n",
        "      print(\"This will not be counted as a guess.\")\n",
        "      continue\n",
        "    n1 = num//1000\n",
        "    n4 = num%10\n",
        "    n3 = (num%100 - n4)//10\n",
        "    n2 = (num%1000 - n3*10 - n4)//100\n",
        "    if n1==n2 or n2==n3 or n3==n4 or n4==n1 or n1==n3 or n2 ==n4:\n",
        "      print(\"you need to enter number having different digits\")\n",
        "      print(\"This will not be counted as a guess.\")\n",
        "      continue\n",
        "    if  n1==0 or n2==0 or n3==0 or n4==0:\n",
        "      print(\"Why 0!!! thats like wasting your guesess as the number should not contain 0\")\n",
        "      print(\"This will not be counted as a guess.\")\n",
        "      continue\n",
        "    if n1>9 or n1==0:\n",
        "      print(\"Use 4 digit numbers only!!\")\n",
        "      print(\"This will not be counted as a guess.\")\n",
        "      continue\n",
        "    cows = 0\n",
        "    bulls = 0\n",
        "    cows = (a==n1)+(b==n2)+(c==n3)+(d==n4)\n",
        "    bulls = ((n1==b) or (n1==c) or (n1==d)) + ((n2==a) or (n2==c) or (n2==d)) + ((n3==b) or (n3==a) or (n3==d)) + ((n4==b) or (n4==c) or (n4==a))\n",
        "    print(\"cows: %d\"%(cows),\"bulls: %d\"%(bulls))\n",
        "    count+=1\n",
        "  print(\"you have guessed the number correctly in : %d gueeses\"%(count))\n",
        "  if(count<=7):\n",
        "    print(\"That means you have won\\nCongrutalations!!\")\n",
        "  else:\n",
        "    print(\"you just used %d more guesses\"%(count-7))\n",
        "    response = input(\"Wanna try again: (y/n)\")\n",
        "    if response is 'y':\n",
        "      game()\n",
        "    else:\n",
        "      print(\"Thanks for playing!\")\n",
        "  return\n",
        "\n",
        "game()\n",
        "\n",
        "\n"
      ],
      "execution_count": 34,
      "outputs": [
        {
          "output_type": "stream",
          "text": [
            "Welcome to Cows and Bulls!\n",
            "1.Try to use less than 7 guesses\n",
            "2.always type number containing different digits\n",
            "3.use 4 digit numbers only having no 0's at all\n",
            "4.cows = no of correct guesses of digit at correct place\n",
            "5.bulls = no of correct guesses of digits but at wrong place\n",
            "1 6 7 5\n",
            "give me a 4 digit number:2345\n",
            "cows: 1 bulls: 0\n",
            "give me a 4 digit number:2342\n",
            "you need to enter number having different digits\n",
            "This will not be counted as a guess.\n",
            "give me a 4 digit number:3567\n",
            "cows: 0 bulls: 3\n",
            "give me a 4 digit number:2345\n",
            "cows: 1 bulls: 0\n",
            "give me a 4 digit number:3853\n",
            "you need to enter number having different digits\n",
            "This will not be counted as a guess.\n",
            "give me a 4 digit number:4375\n",
            "cows: 2 bulls: 0\n",
            "give me a 4 digit number:9843\n",
            "cows: 0 bulls: 0\n",
            "give me a 4 digit number:1675\n",
            "cows: 4 bulls: 0\n",
            "you have guessed the number correctly in : 6 gueeses\n",
            "That means you have won\n",
            "Congrutalations!!\n"
          ],
          "name": "stdout"
        }
      ]
    },
    {
      "cell_type": "code",
      "metadata": {
        "id": "N4GNkLXxGgn8",
        "colab_type": "code",
        "colab": {}
      },
      "source": [
        ""
      ],
      "execution_count": null,
      "outputs": []
    }
  ]
}
