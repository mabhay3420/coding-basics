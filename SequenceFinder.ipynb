{
  "nbformat": 4,
  "nbformat_minor": 0,
  "metadata": {
    "colab": {
      "name": "Untitled7.ipynb",
      "provenance": []
    },
    "kernelspec": {
      "name": "python3",
      "display_name": "Python 3"
    }
  },
  "cells": [
    {
      "cell_type": "code",
      "metadata": {
        "id": "gvHevpjZDhhO",
        "colab_type": "code",
        "colab": {
          "base_uri": "https://localhost:8080/",
          "height": 35
        },
        "outputId": "5d5983e5-180a-4104-ebc9-b10c92e36b69"
      },
      "source": [
        "def sequence_finder(a,b):\n",
        "  len_o = len(a)\n",
        "  len_s = len(b)\n",
        "  if(len_s>len_o):\n",
        "    return 0\n",
        "  count=0\n",
        "  chunks = [a[i:i+len_s] for i in range(len_o-len_s+1)] #breaking the input string in smaller chunks so as to compare directly\n",
        "  for chunk in chunks:\n",
        "    if b in chunk:     #used if is but later found \"if is \" doesn't work for large integers and large strings \"https://stackoverflow.com/questions/132988/is-there-a-difference-between-and-is\"\n",
        "      count+=1\n",
        "  print(count)\n",
        "sequence_finder('lolololadkflollol','lol')"
      ],
      "execution_count": 1,
      "outputs": [
        {
          "output_type": "stream",
          "text": [
            "5\n"
          ],
          "name": "stdout"
        }
      ]
    }
  ]
}