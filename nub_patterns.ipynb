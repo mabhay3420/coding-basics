{
  "nbformat": 4,
  "nbformat_minor": 0,
  "metadata": {
    "colab": {
      "name": "Untitled7.ipynb",
      "provenance": []
    },
    "kernelspec": {
      "name": "python3",
      "display_name": "Python 3"
    }
  },
  "cells": [
    {
      "cell_type": "code",
      "metadata": {
        "id": "gvHevpjZDhhO",
        "colab_type": "code",
        "colab": {
          "base_uri": "https://localhost:8080/",
          "height": 225
        },
        "outputId": "1dd1c68d-16b6-4381-a075-8579ea691c7e"
      },
      "source": [
        "n = int(input())\n",
        "for i in reversed(range(n+1)):\n",
        "  for j in reversed(range(i)):\n",
        "    pattern[j] = \" \"\n",
        "  for k in range(n-i+1):\n",
        "    pattern\n",
        "  for k in reversed(range(1,n-i)):\n",
        "    print(k,end=\" \")\n",
        "  if(n-i):\n",
        "    string = \"0\"\n",
        "    print(string.rstrip())\n",
        "  else:\n",
        "    string = \"\"\n",
        "    print(string.rstrip())\n",
        "for i in (range(1,n+1)):\n",
        "  for j in reversed(range(i)):\n",
        "    print(\" \",end = \" \")\n",
        "  for k in range(n-i+1):\n",
        "    print(k,end=\" \")\n",
        "  for k in reversed(range(1,n-i)):\n",
        "    print(k,end=\" \")\n",
        "  if(n-i):\n",
        "    string = \"0\"\n",
        "    print(string.rstrip())\n",
        "  "
      ],
      "execution_count": 37,
      "outputs": [
        {
          "output_type": "stream",
          "text": [
            "5\n",
            "          0 \n",
            "        0 1 0\n",
            "      0 1 2 1 0\n",
            "    0 1 2 3 2 1 0\n",
            "  0 1 2 3 4 3 2 1 0\n",
            "0 1 2 3 4 5 4 3 2 1 0\n",
            "  0 1 2 3 4 3 2 1 0\n",
            "    0 1 2 3 2 1 0\n",
            "      0 1 2 1 0\n",
            "        0 1 0\n",
            "          0 "
          ],
          "name": "stdout"
        }
      ]
    }
  ]
}